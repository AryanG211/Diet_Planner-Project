{
  "nbformat": 4,
  "nbformat_minor": 0,
  "metadata": {
    "colab": {
      "provenance": []
    },
    "kernelspec": {
      "name": "python3",
      "display_name": "Python 3"
    },
    "language_info": {
      "name": "python"
    }
  },
  "cells": [
    {
      "cell_type": "markdown",
      "source": [
        "IMPORTING THE LIBRARIES"
      ],
      "metadata": {
        "id": "Q3k6otUO0R1G"
      }
    },
    {
      "cell_type": "code",
      "source": [
        "import numpy as np\n",
        "import pandas as pd\n",
        "import matplotlib.pyplot as plt"
      ],
      "metadata": {
        "id": "dB4IEKy30Xmj"
      },
      "execution_count": 6,
      "outputs": []
    },
    {
      "cell_type": "markdown",
      "source": [
        "IMPORTING THE DATASET"
      ],
      "metadata": {
        "id": "KH13Fre-0mmz"
      }
    },
    {
      "cell_type": "code",
      "source": [
        "dataset = pd.read_csv(\"Dataset.csv\")\n",
        "x1 = dataset.iloc[: , 0].values\n",
        "y = dataset.iloc[: ,1 ].values\n",
        "# print(x1)\n",
        "# print(y)\n"
      ],
      "metadata": {
        "id": "3s92fPme0pPP"
      },
      "execution_count": 7,
      "outputs": []
    },
    {
      "cell_type": "markdown",
      "source": [
        "SPLITTING THE DATASET INTO TRAINING AND TESTING TEST"
      ],
      "metadata": {
        "id": "nb4FCrhS1mvb"
      }
    },
    {
      "cell_type": "code",
      "source": [
        "x1 = x1.reshape(-1, 1)\n",
        "y = y.reshape(-1, 1)\n",
        "# print(x1)\n",
        "# print(y)"
      ],
      "metadata": {
        "id": "DeHpY9hf1vyk"
      },
      "execution_count": 8,
      "outputs": []
    },
    {
      "cell_type": "markdown",
      "source": [
        "TRAINING THE MODEL"
      ],
      "metadata": {
        "id": "pE-s-5pg2gFm"
      }
    },
    {
      "cell_type": "code",
      "source": [
        "from sklearn.ensemble import RandomForestRegressor\n",
        "regressor = RandomForestRegressor(n_estimators= 90 , random_state= 0)\n",
        "regressor.fit(x1 , y)\n"
      ],
      "metadata": {
        "colab": {
          "base_uri": "https://localhost:8080/",
          "height": 129
        },
        "id": "RT4toW2H2jpV",
        "outputId": "a1aacfe8-6774-4711-a82c-d9305cba8dfd"
      },
      "execution_count": 9,
      "outputs": [
        {
          "output_type": "stream",
          "name": "stderr",
          "text": [
            "/usr/local/lib/python3.10/dist-packages/sklearn/base.py:1152: DataConversionWarning: A column-vector y was passed when a 1d array was expected. Please change the shape of y to (n_samples,), for example using ravel().\n",
            "  return fit_method(estimator, *args, **kwargs)\n"
          ]
        },
        {
          "output_type": "execute_result",
          "data": {
            "text/plain": [
              "RandomForestRegressor(n_estimators=90, random_state=0)"
            ],
            "text/html": [
              "<style>#sk-container-id-2 {color: black;}#sk-container-id-2 pre{padding: 0;}#sk-container-id-2 div.sk-toggleable {background-color: white;}#sk-container-id-2 label.sk-toggleable__label {cursor: pointer;display: block;width: 100%;margin-bottom: 0;padding: 0.3em;box-sizing: border-box;text-align: center;}#sk-container-id-2 label.sk-toggleable__label-arrow:before {content: \"▸\";float: left;margin-right: 0.25em;color: #696969;}#sk-container-id-2 label.sk-toggleable__label-arrow:hover:before {color: black;}#sk-container-id-2 div.sk-estimator:hover label.sk-toggleable__label-arrow:before {color: black;}#sk-container-id-2 div.sk-toggleable__content {max-height: 0;max-width: 0;overflow: hidden;text-align: left;background-color: #f0f8ff;}#sk-container-id-2 div.sk-toggleable__content pre {margin: 0.2em;color: black;border-radius: 0.25em;background-color: #f0f8ff;}#sk-container-id-2 input.sk-toggleable__control:checked~div.sk-toggleable__content {max-height: 200px;max-width: 100%;overflow: auto;}#sk-container-id-2 input.sk-toggleable__control:checked~label.sk-toggleable__label-arrow:before {content: \"▾\";}#sk-container-id-2 div.sk-estimator input.sk-toggleable__control:checked~label.sk-toggleable__label {background-color: #d4ebff;}#sk-container-id-2 div.sk-label input.sk-toggleable__control:checked~label.sk-toggleable__label {background-color: #d4ebff;}#sk-container-id-2 input.sk-hidden--visually {border: 0;clip: rect(1px 1px 1px 1px);clip: rect(1px, 1px, 1px, 1px);height: 1px;margin: -1px;overflow: hidden;padding: 0;position: absolute;width: 1px;}#sk-container-id-2 div.sk-estimator {font-family: monospace;background-color: #f0f8ff;border: 1px dotted black;border-radius: 0.25em;box-sizing: border-box;margin-bottom: 0.5em;}#sk-container-id-2 div.sk-estimator:hover {background-color: #d4ebff;}#sk-container-id-2 div.sk-parallel-item::after {content: \"\";width: 100%;border-bottom: 1px solid gray;flex-grow: 1;}#sk-container-id-2 div.sk-label:hover label.sk-toggleable__label {background-color: #d4ebff;}#sk-container-id-2 div.sk-serial::before {content: \"\";position: absolute;border-left: 1px solid gray;box-sizing: border-box;top: 0;bottom: 0;left: 50%;z-index: 0;}#sk-container-id-2 div.sk-serial {display: flex;flex-direction: column;align-items: center;background-color: white;padding-right: 0.2em;padding-left: 0.2em;position: relative;}#sk-container-id-2 div.sk-item {position: relative;z-index: 1;}#sk-container-id-2 div.sk-parallel {display: flex;align-items: stretch;justify-content: center;background-color: white;position: relative;}#sk-container-id-2 div.sk-item::before, #sk-container-id-2 div.sk-parallel-item::before {content: \"\";position: absolute;border-left: 1px solid gray;box-sizing: border-box;top: 0;bottom: 0;left: 50%;z-index: -1;}#sk-container-id-2 div.sk-parallel-item {display: flex;flex-direction: column;z-index: 1;position: relative;background-color: white;}#sk-container-id-2 div.sk-parallel-item:first-child::after {align-self: flex-end;width: 50%;}#sk-container-id-2 div.sk-parallel-item:last-child::after {align-self: flex-start;width: 50%;}#sk-container-id-2 div.sk-parallel-item:only-child::after {width: 0;}#sk-container-id-2 div.sk-dashed-wrapped {border: 1px dashed gray;margin: 0 0.4em 0.5em 0.4em;box-sizing: border-box;padding-bottom: 0.4em;background-color: white;}#sk-container-id-2 div.sk-label label {font-family: monospace;font-weight: bold;display: inline-block;line-height: 1.2em;}#sk-container-id-2 div.sk-label-container {text-align: center;}#sk-container-id-2 div.sk-container {/* jupyter's `normalize.less` sets `[hidden] { display: none; }` but bootstrap.min.css set `[hidden] { display: none !important; }` so we also need the `!important` here to be able to override the default hidden behavior on the sphinx rendered scikit-learn.org. See: https://github.com/scikit-learn/scikit-learn/issues/21755 */display: inline-block !important;position: relative;}#sk-container-id-2 div.sk-text-repr-fallback {display: none;}</style><div id=\"sk-container-id-2\" class=\"sk-top-container\"><div class=\"sk-text-repr-fallback\"><pre>RandomForestRegressor(n_estimators=90, random_state=0)</pre><b>In a Jupyter environment, please rerun this cell to show the HTML representation or trust the notebook. <br />On GitHub, the HTML representation is unable to render, please try loading this page with nbviewer.org.</b></div><div class=\"sk-container\" hidden><div class=\"sk-item\"><div class=\"sk-estimator sk-toggleable\"><input class=\"sk-toggleable__control sk-hidden--visually\" id=\"sk-estimator-id-2\" type=\"checkbox\" checked><label for=\"sk-estimator-id-2\" class=\"sk-toggleable__label sk-toggleable__label-arrow\">RandomForestRegressor</label><div class=\"sk-toggleable__content\"><pre>RandomForestRegressor(n_estimators=90, random_state=0)</pre></div></div></div></div></div>"
            ]
          },
          "metadata": {},
          "execution_count": 9
        }
      ]
    },
    {
      "cell_type": "markdown",
      "source": [
        "CALCULATION OF BMR"
      ],
      "metadata": {
        "id": "iW4gMxB7Nuxx"
      }
    },
    {
      "cell_type": "code",
      "source": [
        "Gender = input(\"Enter your gender:\")\n",
        "Age = int(input(\"Enter your age(In years):\"))\n",
        "Height = int(input(\"Enter your height (In cms):\"))\n",
        "Weight = int(input(\"Enter your weight (In kg):\"))\n",
        "\n",
        "if(Gender == \"Male\"):\n",
        "  BMR = 88.362+(13.397*Weight)+(4.799*Height)-(5.677*Age)\n",
        "\n",
        "else:\n",
        "  BMR = 447.593+(9.247*Weight)+(3.098*Height)-(4.330*Age)\n",
        "\n",
        "print(BMR)\n",
        "\n",
        "\n"
      ],
      "metadata": {
        "id": "8KjjnPLeYf7v",
        "colab": {
          "base_uri": "https://localhost:8080/"
        },
        "outputId": "59d944c1-9262-47df-c904-9aee15bc625d"
      },
      "execution_count": 10,
      "outputs": [
        {
          "output_type": "stream",
          "name": "stdout",
          "text": [
            "Enter your gender:Male\n",
            "Enter your age(In years):19\n",
            "Enter your height (In cms):165\n",
            "Enter your weight (In kg):65\n",
            "1643.139\n"
          ]
        }
      ]
    },
    {
      "cell_type": "markdown",
      "source": [
        "PREDICTING"
      ],
      "metadata": {
        "id": "eRXuIZLd54OO"
      }
    },
    {
      "cell_type": "code",
      "source": [
        "y_pred = regressor.predict([[BMR]])\n",
        "y_pred = y_pred[0]\n",
        "y_pred = \"{:.2f}\".format(y_pred)\n",
        "print(f\"The required calories that you should consume a day is {y_pred} kcal\")\n",
        "# print(y_pred)"
      ],
      "metadata": {
        "id": "v7dKKhYD56gG",
        "colab": {
          "base_uri": "https://localhost:8080/"
        },
        "outputId": "388b21cb-025e-4750-ce59-5c5f493f9d17"
      },
      "execution_count": 11,
      "outputs": [
        {
          "output_type": "stream",
          "name": "stdout",
          "text": [
            "The required calories that you should consume a day is 2245.62 kcal\n"
          ]
        }
      ]
    },
    {
      "cell_type": "markdown",
      "source": [
        "MAKING THE K MEANS MODEL"
      ],
      "metadata": {
        "id": "SVzNIFizXwVO"
      }
    },
    {
      "cell_type": "markdown",
      "source": [
        "IMPORTING THE DATASET"
      ],
      "metadata": {
        "id": "9K5aiHUl_TaQ"
      }
    },
    {
      "cell_type": "code",
      "source": [
        "dataset_1 = pd.read_csv(\"Calorie.csv\")\n",
        "dataset_1[\"FoodCategory\"] = dataset_1[\"FoodCategory\"].map({'Veg': 0, 'Non Veg': 1})\n",
        "# print(dataset)\n",
        "x2 = dataset_1.iloc[: , [1,2]].values"
      ],
      "metadata": {
        "id": "GMfMIAjhVkbr"
      },
      "execution_count": 12,
      "outputs": []
    },
    {
      "cell_type": "markdown",
      "source": [
        "HANDLING THE MISSING DATA"
      ],
      "metadata": {
        "id": "GDJAK2Mw_6K8"
      }
    },
    {
      "cell_type": "code",
      "source": [
        "from sklearn.impute import SimpleImputer\n",
        "\n",
        "imputer = SimpleImputer(strategy=\"median\")\n",
        "x2 = imputer.fit_transform(x2)"
      ],
      "metadata": {
        "id": "BoDP4MMC_9lY"
      },
      "execution_count": 13,
      "outputs": []
    },
    {
      "cell_type": "markdown",
      "source": [
        "NORMALIZING THE DATA"
      ],
      "metadata": {
        "id": "t1PU31k1ACzy"
      }
    },
    {
      "cell_type": "code",
      "source": [
        "from sklearn.preprocessing import StandardScaler\n",
        "sc = StandardScaler()\n",
        "x_scaled = sc.fit_transform(x2)\n",
        "# print(x_scaled)"
      ],
      "metadata": {
        "id": "VcyCAAfBADrl"
      },
      "execution_count": 14,
      "outputs": []
    },
    {
      "cell_type": "markdown",
      "source": [
        "\n",
        "APPLYING THE KMEANS MODEL"
      ],
      "metadata": {
        "id": "CBTQcbkqAJSJ"
      }
    },
    {
      "cell_type": "code",
      "source": [
        "from sklearn.cluster import KMeans\n",
        "wcss = []\n",
        "for i in range(1 , 11):\n",
        "  kmeans = KMeans(n_clusters = i , init= \"k-means++\" , random_state = 42)\n",
        "  kmeans.fit(x2)\n",
        "  wcss.append(kmeans.inertia_)\n",
        "\n",
        "# VISUALIZATION OF THE ELBOW METHOD\n",
        "# plt.plot(range(1 , 11) , wcss)\n",
        "# plt.title(\"The elbow method\")\n",
        "# plt.xlabel(\"Number of clusters\")\n",
        "# plt.ylabel(\"WCSS\")\n",
        "# plt.show()"
      ],
      "metadata": {
        "colab": {
          "base_uri": "https://localhost:8080/"
        },
        "id": "ZEEJzKkSAJ8u",
        "outputId": "2c370bae-81c5-4173-b6ab-ca7e091d9a65"
      },
      "execution_count": 15,
      "outputs": [
        {
          "output_type": "stream",
          "name": "stderr",
          "text": [
            "/usr/local/lib/python3.10/dist-packages/sklearn/cluster/_kmeans.py:1416: FutureWarning: The default value of `n_init` will change from 10 to 'auto' in 1.4. Set the value of `n_init` explicitly to suppress the warning\n",
            "  super()._check_params_vs_input(X, default_n_init=10)\n",
            "/usr/local/lib/python3.10/dist-packages/sklearn/cluster/_kmeans.py:1416: FutureWarning: The default value of `n_init` will change from 10 to 'auto' in 1.4. Set the value of `n_init` explicitly to suppress the warning\n",
            "  super()._check_params_vs_input(X, default_n_init=10)\n",
            "/usr/local/lib/python3.10/dist-packages/sklearn/cluster/_kmeans.py:1416: FutureWarning: The default value of `n_init` will change from 10 to 'auto' in 1.4. Set the value of `n_init` explicitly to suppress the warning\n",
            "  super()._check_params_vs_input(X, default_n_init=10)\n",
            "/usr/local/lib/python3.10/dist-packages/sklearn/cluster/_kmeans.py:1416: FutureWarning: The default value of `n_init` will change from 10 to 'auto' in 1.4. Set the value of `n_init` explicitly to suppress the warning\n",
            "  super()._check_params_vs_input(X, default_n_init=10)\n",
            "/usr/local/lib/python3.10/dist-packages/sklearn/cluster/_kmeans.py:1416: FutureWarning: The default value of `n_init` will change from 10 to 'auto' in 1.4. Set the value of `n_init` explicitly to suppress the warning\n",
            "  super()._check_params_vs_input(X, default_n_init=10)\n",
            "/usr/local/lib/python3.10/dist-packages/sklearn/cluster/_kmeans.py:1416: FutureWarning: The default value of `n_init` will change from 10 to 'auto' in 1.4. Set the value of `n_init` explicitly to suppress the warning\n",
            "  super()._check_params_vs_input(X, default_n_init=10)\n",
            "/usr/local/lib/python3.10/dist-packages/sklearn/cluster/_kmeans.py:1416: FutureWarning: The default value of `n_init` will change from 10 to 'auto' in 1.4. Set the value of `n_init` explicitly to suppress the warning\n",
            "  super()._check_params_vs_input(X, default_n_init=10)\n",
            "/usr/local/lib/python3.10/dist-packages/sklearn/cluster/_kmeans.py:1416: FutureWarning: The default value of `n_init` will change from 10 to 'auto' in 1.4. Set the value of `n_init` explicitly to suppress the warning\n",
            "  super()._check_params_vs_input(X, default_n_init=10)\n",
            "/usr/local/lib/python3.10/dist-packages/sklearn/cluster/_kmeans.py:1416: FutureWarning: The default value of `n_init` will change from 10 to 'auto' in 1.4. Set the value of `n_init` explicitly to suppress the warning\n",
            "  super()._check_params_vs_input(X, default_n_init=10)\n",
            "/usr/local/lib/python3.10/dist-packages/sklearn/cluster/_kmeans.py:1416: FutureWarning: The default value of `n_init` will change from 10 to 'auto' in 1.4. Set the value of `n_init` explicitly to suppress the warning\n",
            "  super()._check_params_vs_input(X, default_n_init=10)\n"
          ]
        }
      ]
    },
    {
      "cell_type": "markdown",
      "source": [
        "TRAINING THE KMEANS MODEL"
      ],
      "metadata": {
        "id": "bgWKwfskAR3K"
      }
    },
    {
      "cell_type": "code",
      "source": [
        "kmeans = KMeans(n_clusters = 2 , init =\"k-means++\" , random_state = 42)\n",
        "yKmeans = kmeans.fit_predict(x_scaled)\n",
        "# print(yKmeans)"
      ],
      "metadata": {
        "colab": {
          "base_uri": "https://localhost:8080/"
        },
        "id": "yGm-g_LdASpB",
        "outputId": "2a4b8c0e-df30-4042-9936-4af1298cce3f"
      },
      "execution_count": 16,
      "outputs": [
        {
          "output_type": "stream",
          "name": "stderr",
          "text": [
            "/usr/local/lib/python3.10/dist-packages/sklearn/cluster/_kmeans.py:1416: FutureWarning: The default value of `n_init` will change from 10 to 'auto' in 1.4. Set the value of `n_init` explicitly to suppress the warning\n",
            "  super()._check_params_vs_input(X, default_n_init=10)\n"
          ]
        }
      ]
    },
    {
      "cell_type": "markdown",
      "source": [
        "INVERSE"
      ],
      "metadata": {
        "id": "GS1aU-MhAVfy"
      }
    },
    {
      "cell_type": "code",
      "source": [
        "sc.fit(x_scaled)\n",
        "x2 = sc.inverse_transform(x_scaled)\n",
        "# print(x2)"
      ],
      "metadata": {
        "id": "jze7SSXAAa7h"
      },
      "execution_count": 17,
      "outputs": []
    },
    {
      "cell_type": "markdown",
      "source": [
        "EXTRACTING THE VALUE FROM THE SPECIFIC CLUSTER"
      ],
      "metadata": {
        "id": "KLVdJcxPBDlj"
      }
    },
    {
      "cell_type": "code",
      "source": [
        "cluster_1_data = dataset_1[yKmeans == 0]\n",
        "\n",
        "cluster_2_data = dataset_1[yKmeans == 1]"
      ],
      "metadata": {
        "id": "HKc1FmTVBENq"
      },
      "execution_count": 18,
      "outputs": []
    },
    {
      "cell_type": "markdown",
      "source": [
        "RECOMMENDING THE DIET"
      ],
      "metadata": {
        "id": "3Eonssj9CfRG"
      }
    },
    {
      "cell_type": "code",
      "source": [
        "calorie_threshold = float(y_pred)\n",
        "Category = input(\"Enter the category you want (VEG / NON VEG):\")\n",
        "diet = []\n",
        "if(Category == \"Veg\" or Category == \"veg\"):\n",
        "  current_calorie = 0\n",
        "  for index, row in cluster_1_data.iterrows():\n",
        "    if current_calorie + row['Calorie'] <= calorie_threshold:\n",
        "        diet.append({'FoodItem': row['FoodItem'], 'Calorie': row['Calorie']})\n",
        "        current_calorie += row['Calorie']\n",
        "    else:\n",
        "        break\n",
        "else:\n",
        "  current_calorie = 0\n",
        "  for index, row in cluster_2_data.iterrows():\n",
        "    if current_calorie + row['Calorie'] <= calorie_threshold:\n",
        "        diet.append({'FoodItem': row['FoodItem'], 'Calorie': row['Calorie']})\n",
        "        current_calorie += row['Calorie']\n",
        "    else:\n",
        "        break\n",
        "# print(diet)\n",
        "\n",
        "Diet_planner = pd.DataFrame(diet)\n",
        "print(\"Here is your diet for today!!\")\n",
        "print(Diet_planner)\n"
      ],
      "metadata": {
        "colab": {
          "base_uri": "https://localhost:8080/"
        },
        "id": "qlNA8Iw9CiRF",
        "outputId": "3f319b46-62eb-416c-9da5-a23956d7d6d3"
      },
      "execution_count": 19,
      "outputs": [
        {
          "output_type": "stream",
          "name": "stdout",
          "text": [
            "Enter the category you want (VEG / NON VEG):NON VEG\n",
            "Here is your diet for today!!\n",
            "                    FoodItem  Calorie\n",
            "0                 Applesauce       62\n",
            "1            Canned Apricots       48\n",
            "2        Canned Blackberries       92\n",
            "3         Canned Blueberries       88\n",
            "4            Canned Cherries       54\n",
            "5         Canned Cranberries      178\n",
            "6   Canned Crushed Pineapple       53\n",
            "7                Canned Figs      107\n",
            "8      Canned Fruit Cocktail       81\n",
            "9         Canned Fruit Salad       50\n",
            "10       Canned Gooseberries       73\n",
            "11         Canned Grapefruit       37\n",
            "12             Canned Grapes       76\n",
            "13   Canned Mandarin Oranges       71\n",
            "14              Canned Mango       65\n",
            "15         Canned Mangosteen       73\n",
            "16        Canned Mixed Fruit       71\n",
            "17   Canned Morello Cherries       81\n",
            "18            Canned Oranges       62\n",
            "19            Canned Peaches       54\n",
            "20              Canned Pears       35\n",
            "21          Canned Pineapple       60\n",
            "22              Canned Plums       58\n",
            "23        Canned Raspberries       91\n",
            "24   Canned Sliced Pineapple       53\n",
            "25      Canned Sour Cherries      114\n",
            "26       Canned Strawberries       92\n",
            "27         Canned Tangerines       61\n"
          ]
        }
      ]
    }
  ]
}